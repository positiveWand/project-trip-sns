{
 "cells": [
  {
   "cell_type": "code",
   "execution_count": 1,
   "metadata": {},
   "outputs": [],
   "source": [
    "import yaml\n",
    "import mysql.connector\n",
    "\n",
    "with open(\"config.yml\", \"r\", encoding=\"utf-8\") as file:\n",
    "    config = yaml.safe_load(file)\n",
    "\n",
    "conn = mysql.connector.connect(\n",
    "    host=config['db']['host'],\n",
    "    port=config['db']['port'],\n",
    "    user=config['db']['username'],\n",
    "    password=config['db']['password'],\n",
    "    database='tourin'\n",
    ")"
   ]
  },
  {
   "cell_type": "code",
   "execution_count": 3,
   "metadata": {},
   "outputs": [],
   "source": [
    "conn.close()"
   ]
  },
  {
   "cell_type": "markdown",
   "metadata": {},
   "source": [
    "# 관광지"
   ]
  },
  {
   "cell_type": "code",
   "execution_count": null,
   "metadata": {},
   "outputs": [],
   "source": [
    "from tourspot import insert_tourspot_from_csv\n",
    "\n",
    "insert_tourspot_from_csv(conn)"
   ]
  },
  {
   "cell_type": "code",
   "execution_count": 2,
   "metadata": {},
   "outputs": [
    {
     "name": "stdout",
     "output_type": "stream",
     "text": [
      "[INFO] 관광지 데이터를 DB에 삽입합니다.\n",
      "[INFO] 관광지 데이터 생성\n",
      "[INFO] 0개의 기존 데이터가 삭제되었습니다.\n",
      "[INFO] 1000000개의 더미 데이터가 삽입되었습니다.\n"
     ]
    }
   ],
   "source": [
    "from tourspot import insert_tourspot\n",
    "\n",
    "num = 1000000\n",
    "insert_tourspot(conn, num)"
   ]
  },
  {
   "cell_type": "code",
   "execution_count": 7,
   "metadata": {},
   "outputs": [
    {
     "name": "stdout",
     "output_type": "stream",
     "text": [
      "[INFO] 관광지 태그 데이터를 DB에 삽입합니다.\n",
      "[INFO] 0개의 기존 데이터가 삭제되었습니다.\n",
      "[INFO] 10000개의 더미 데이터가 삽입되었습니다.\n"
     ]
    }
   ],
   "source": [
    "from tourspot import insert_tourspot_tag\n",
    "\n",
    "insert_tourspot_tag(conn)"
   ]
  },
  {
   "cell_type": "markdown",
   "metadata": {},
   "source": [
    "# 회원"
   ]
  },
  {
   "cell_type": "code",
   "execution_count": 3,
   "metadata": {},
   "outputs": [
    {
     "name": "stdout",
     "output_type": "stream",
     "text": [
      "[INFO] 1000000개의 테스트 회원 데이터를 DB에 삽입합니다.\n",
      "[INFO] 0개의 기존 데이터가 삭제되었습니다.\n",
      "[INFO] 테스트 회원 데이터 생성\n",
      "[INFO] 10000개의 더미 데이터가 삽입되었습니다.\n"
     ]
    }
   ],
   "source": [
    "from user import insert_user\n",
    "\n",
    "num = 1000000\n",
    "insert_user(conn, num)"
   ]
  },
  {
   "cell_type": "markdown",
   "metadata": {},
   "source": [
    "# 북마크"
   ]
  },
  {
   "cell_type": "code",
   "execution_count": null,
   "metadata": {},
   "outputs": [],
   "source": [
    "from bookmark import insert_bookmark\n",
    "\n",
    "target_user = 1\n",
    "num = 1\n",
    "insert_bookmark(conn, target_user, num)"
   ]
  },
  {
   "cell_type": "code",
   "execution_count": 4,
   "metadata": {},
   "outputs": [
    {
     "name": "stdout",
     "output_type": "stream",
     "text": [
      "[INFO] 1000000개의 테스트 북마크 데이터를 DB에 삽입합니다.\n",
      "[INFO] 0개의 기존 데이터가 삭제되었습니다.\n",
      "[INFO] 북마크할 관광지 선정\n",
      "[INFO] 10000개의 더미 데이터가 삽입되었습니다.\n"
     ]
    }
   ],
   "source": [
    "from bookmark import insert_random_bookmark\n",
    "\n",
    "tourspot_num = 100000\n",
    "multi = 10\n",
    "\n",
    "insert_random_bookmark(conn, tourspot_num, multi)"
   ]
  },
  {
   "cell_type": "markdown",
   "metadata": {},
   "source": [
    "# 관광지 후기"
   ]
  },
  {
   "cell_type": "markdown",
   "metadata": {},
   "source": [
    "## 관광지 후기"
   ]
  },
  {
   "cell_type": "code",
   "execution_count": 2,
   "metadata": {},
   "outputs": [
    {
     "name": "stdout",
     "output_type": "stream",
     "text": [
      "[INFO] 10개의 테스트 관광지 후기 데이터를 DB에 삽입합니다.\n",
      "[INFO] 0개의 기존 데이터가 삭제되었습니다.\n",
      "[INFO] 후기를 남길 회원 선정\n",
      "[INFO] 10개의 더미 데이터가 삽입되었습니다.\n"
     ]
    }
   ],
   "source": [
    "from tourspot_review import insert_tourspot_review\n",
    "\n",
    "target_tourspot = '2777791'\n",
    "num = 10\n",
    "insert_tourspot_review(conn, target_tourspot, num)"
   ]
  },
  {
   "cell_type": "code",
   "execution_count": 5,
   "metadata": {},
   "outputs": [
    {
     "name": "stdout",
     "output_type": "stream",
     "text": [
      "[INFO] 1000000개의 테스트 관광지 후기 데이터를 DB에 삽입합니다.\n",
      "[INFO] 0개의 기존 데이터가 삭제되었습니다.\n",
      "[INFO] 후기를 남길 회원 선정\n",
      "[INFO] 10000개의 더미 데이터가 삽입되었습니다.\n"
     ]
    }
   ],
   "source": [
    "from tourspot_review import insert_random_tourspot_review\n",
    "\n",
    "user_num = 100000\n",
    "multi = 10\n",
    "insert_random_tourspot_review(conn, user_num, multi)"
   ]
  },
  {
   "cell_type": "markdown",
   "metadata": {},
   "source": [
    "## 관광지 후기 공감"
   ]
  },
  {
   "cell_type": "code",
   "execution_count": 2,
   "metadata": {},
   "outputs": [
    {
     "name": "stdout",
     "output_type": "stream",
     "text": [
      "[INFO] 100개의 테스트 관광지 후기 좋아요 데이터를 DB에 삽입합니다.\n",
      "[INFO] 0개의 기존 데이터가 삭제되었습니다.\n",
      "[INFO] 후기를 남길 회원 선정\n",
      "[INFO] 100개의 더미 데이터가 삽입되었습니다.\n"
     ]
    }
   ],
   "source": [
    "from tourspot_review_like import insert_tourspot_review_like\n",
    "\n",
    "target_tourspot_review = \"94\"\n",
    "num = 100\n",
    "insert_tourspot_review_like(conn, target_tourspot_review, num)"
   ]
  },
  {
   "cell_type": "code",
   "execution_count": 6,
   "metadata": {},
   "outputs": [
    {
     "name": "stdout",
     "output_type": "stream",
     "text": [
      "[INFO] 1000000개의 테스트 관광지 후기 좋아요 데이터를 DB에 삽입합니다.\n",
      "[INFO] 0개의 기존 데이터가 삭제되었습니다.\n",
      "[INFO] 후기를 남길 회원 선정\n",
      "[INFO] 10000개의 더미 데이터가 삽입되었습니다.\n"
     ]
    }
   ],
   "source": [
    "from tourspot_review_like import insert_random_tourspot_review_like\n",
    "\n",
    "user_num = 100000\n",
    "multi = 10\n",
    "insert_random_tourspot_review_like(conn, user_num, multi)"
   ]
  },
  {
   "cell_type": "code",
   "execution_count": null,
   "metadata": {},
   "outputs": [],
   "source": []
  }
 ],
 "metadata": {
  "kernelspec": {
   "display_name": "Python 3",
   "language": "python",
   "name": "python3"
  },
  "language_info": {
   "codemirror_mode": {
    "name": "ipython",
    "version": 3
   },
   "file_extension": ".py",
   "mimetype": "text/x-python",
   "name": "python",
   "nbconvert_exporter": "python",
   "pygments_lexer": "ipython3",
   "version": "3.11.5"
  }
 },
 "nbformat": 4,
 "nbformat_minor": 2
}
